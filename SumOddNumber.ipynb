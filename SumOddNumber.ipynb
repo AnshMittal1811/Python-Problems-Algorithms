{
 "cells": [
  {
   "cell_type": "markdown",
   "metadata": {},
   "source": [
    "# Given two arrays count all pairs whose sum is an odd number\n"
   ]
  },
  {
   "cell_type": "markdown",
   "metadata": {},
   "source": [
    "Given two arrays of N and M integers. The task is to find the number of unordered pairs formed of elements from both arrays in such a way that their sum is an odd number.\n",
    "\n",
    "*Note: An element can only be one pair.*\n",
    "\n",
    "**Examples:**\n",
    "\n",
    "**Input:** a[] = {9, 14, 6, 2, 11}, b[] = {8, 4, 7, 20}\n",
    "**Output:** 3\n",
    "{9, 20}, {14, 7} and {11, 8}\n",
    "\n",
    "**Input:** a[] = {2, 4, 6}, b[] = {8, 10, 12}\n",
    "**Output:** 0\n",
    "\n",
    "**Approach:** Count the number of odd and even numbers in both the arrays and the answer to the number of pairs will be min(odd1, even2) + min(odd2, even1), because odd + even is only odd.\n"
   ]
  },
  {
   "cell_type": "code",
   "execution_count": null,
   "metadata": {},
   "outputs": [],
   "source": [
    "def count_pairs(a, b, n, m): \n",
    "      \n",
    "    # Count of odd and even numbers \n",
    "    odd1 = 0\n",
    "    even1 = 0\n",
    "    odd2 = 0\n",
    "    even2 = 0\n",
    "  \n",
    "    # Traverse in the first array \n",
    "    # and count the number of odd \n",
    "    # and evene numbers in them \n",
    "    for i in range(n): \n",
    "        if (a[i] % 2): \n",
    "            odd1 += 1\n",
    "        else: \n",
    "            even1 += 1\n",
    "  \n",
    "    # Traverse in the second array \n",
    "    # and count the number of odd \n",
    "    # and evene numbers in them \n",
    "    for i in range(m): \n",
    "        if (b[i] % 2): \n",
    "            odd2 += 1\n",
    "        else: \n",
    "            even2 += 1\n",
    "  \n",
    "    # Count the number of pairs \n",
    "    pairs = (min(odd1, even2) + \n",
    "             min(odd2, even1)) \n",
    "  \n",
    "    # Return the number of pairs \n",
    "    return pairs \n",
    "  \n",
    "# Driver code \n",
    "if __name__ == '__main__': \n",
    "    a = [9, 14, 6, 2, 11] \n",
    "    b = [8, 4, 7, 20] \n",
    "    n = len(a) \n",
    "    m = len(b) \n",
    "    print(count_pairs(a, b, n, m)) \n"
   ]
  },
  {
   "cell_type": "code",
   "execution_count": null,
   "metadata": {},
   "outputs": [],
   "source": []
  },
  {
   "cell_type": "code",
   "execution_count": null,
   "metadata": {},
   "outputs": [],
   "source": []
  }
 ],
 "metadata": {
  "kernelspec": {
   "display_name": "Python 3",
   "language": "python",
   "name": "python3"
  },
  "language_info": {
   "codemirror_mode": {
    "name": "ipython",
    "version": 3
   },
   "file_extension": ".py",
   "mimetype": "text/x-python",
   "name": "python",
   "nbconvert_exporter": "python",
   "pygments_lexer": "ipython3",
   "version": "3.7.3"
  }
 },
 "nbformat": 4,
 "nbformat_minor": 2
}
