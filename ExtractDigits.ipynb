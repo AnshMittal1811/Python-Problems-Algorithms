{
 "cells": [
  {
   "cell_type": "markdown",
   "metadata": {},
   "source": [
    "# Extract digits from given string"
   ]
  },
  {
   "cell_type": "markdown",
   "metadata": {},
   "source": [
    "While programming, sometimes, we just require a certain type of data and need to discard other. This type of problem is quite common in Data Science domain, and since Data Science uses Python worldwide, its important to know how to extract specific elements. This article discusses certain ways in which only digit can be extracted. Let’s discuss the same.\n",
    "\n",
    "Method #1 : Using join() + isdigit() + filter()\n",
    "\n",
    "This task can be performed using the combination of above functions. The filter function filters the digits detected by the isdigit function and join function performs the task of reconstruction of join function."
   ]
  },
  {
   "cell_type": "code",
   "execution_count": 1,
   "metadata": {},
   "outputs": [
    {
     "name": "stdout",
     "output_type": "stream",
     "text": [
      "The original string : g1eeks4geeks5\n",
      "The digits string is : 145\n"
     ]
    }
   ],
   "source": [
    "\n",
    "# Python3 code to demonstrate \n",
    "# Extract digit string  \n",
    "# using join() + isdigit() + filter() \n",
    "  \n",
    "# initializing string \n",
    "test_string = 'g1eeks4geeks5'\n",
    "  \n",
    "# printing original strings   \n",
    "print(\"The original string : \" + test_string) \n",
    "  \n",
    "# using join() + isdigit() + filter() \n",
    "# Extract digit string  \n",
    "res = ''.join(filter(lambda i: i.isdigit(), test_string)) \n",
    "      \n",
    "# print result \n",
    "print(\"The digits string is : \" + str(res)) "
   ]
  },
  {
   "cell_type": "markdown",
   "metadata": {},
   "source": [
    "Method #2 : Using re\n",
    "The regular expressions can also be used to perform this particular task. We can define the digit type requirement, using “\\D”, and only digits are extracted from the string.\n",
    "\n"
   ]
  },
  {
   "cell_type": "code",
   "execution_count": 2,
   "metadata": {},
   "outputs": [
    {
     "name": "stdout",
     "output_type": "stream",
     "text": [
      "The original string : g1eeks4geeks5\n",
      "The digits string is : 145\n"
     ]
    }
   ],
   "source": [
    "# Python3 code to demonstrate \n",
    "# Extract digit string  \n",
    "# using re \n",
    "import re \n",
    "  \n",
    "# initializing string \n",
    "test_string = 'g1eeks4geeks5'\n",
    "  \n",
    "# printing original strings   \n",
    "print(\"The original string : \" + test_string) \n",
    "  \n",
    "# using re \n",
    "# Extract digit string  \n",
    "res = re.sub(\"\\D\", \"\", test_string) \n",
    "      \n",
    "# print result \n",
    "print(\"The digits string is : \" + str(res)) \n"
   ]
  },
  {
   "cell_type": "code",
   "execution_count": null,
   "metadata": {},
   "outputs": [],
   "source": []
  }
 ],
 "metadata": {
  "kernelspec": {
   "display_name": "Python 3",
   "language": "python",
   "name": "python3"
  },
  "language_info": {
   "codemirror_mode": {
    "name": "ipython",
    "version": 3
   },
   "file_extension": ".py",
   "mimetype": "text/x-python",
   "name": "python",
   "nbconvert_exporter": "python",
   "pygments_lexer": "ipython3",
   "version": "3.7.3"
  }
 },
 "nbformat": 4,
 "nbformat_minor": 2
}
