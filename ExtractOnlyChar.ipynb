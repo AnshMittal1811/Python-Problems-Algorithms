{
 "cells": [
  {
   "cell_type": "markdown",
   "metadata": {},
   "source": [
    "# Extract only characters from given string"
   ]
  },
  {
   "cell_type": "markdown",
   "metadata": {},
   "source": [
    "Given a string, the task is to extract only alphabetical characters from a string. Given below are few methods to solve the given problem.\n",
    "\n",
    "Method #1: Using re.split"
   ]
  },
  {
   "cell_type": "code",
   "execution_count": 1,
   "metadata": {},
   "outputs": [
    {
     "name": "stdout",
     "output_type": "stream",
     "text": [
      "initial string :  123()#$ABGFDabcjw abceddfgh\n",
      "first string result:    A B G F D a b c j w \n",
      "second string result:   a b c e d d f g h \n"
     ]
    }
   ],
   "source": [
    "# Python code to demonstrate \n",
    "# to get characters from string \n",
    "import re \n",
    "  \n",
    "# initialising string \n",
    "ini_string = \"123()#$ABGFDabcjw\"\n",
    "ini_string2 = \"abceddfgh\"\n",
    "  \n",
    "# printing strings \n",
    "print (\"initial string : \", ini_string, ini_string2) \n",
    "  \n",
    "# code to find characters in string \n",
    "res1 = \" \".join(re.split(\"[^a-zA-Z]*\", ini_string)) \n",
    "res2 = \" \".join(re.split(\"[^a-zA-Z]*\", ini_string2)) \n",
    "  \n",
    "# printing resultant string \n",
    "print (\"first string result: \", str(res1)) \n",
    "print (\"second string result: \", str(res2)) \n"
   ]
  },
  {
   "cell_type": "markdown",
   "metadata": {},
   "source": [
    "Method #2: Using re.fidall\n",
    "\n"
   ]
  },
  {
   "cell_type": "code",
   "execution_count": 2,
   "metadata": {},
   "outputs": [
    {
     "name": "stdout",
     "output_type": "stream",
     "text": [
      "initial string : \n",
      " 123()#$ABGFDabcjw \n",
      " abceddfgh\n",
      "first string result:  ABGFDabcjw\n",
      "second string result:  abceddfgh\n"
     ]
    }
   ],
   "source": [
    "\n",
    "# Python code to demonstrate \n",
    "# to get characters in string \n",
    "import re \n",
    "  \n",
    "# initialising string \n",
    "ini_string = \"123()#$ABGFDabcjw\"\n",
    "ini_string2 = \"abceddfgh\"\n",
    "  \n",
    "# printing strings \n",
    "print (\"initial string : \\n\", ini_string, \"\\n\", ini_string2) \n",
    "  \n",
    "# code to find characters in string \n",
    "res1 = \" \".join(re.findall(\"[a-zA-Z]+\", ini_string)) \n",
    "res2 = \" \".join(re.findall(\"[a-zA-Z]+\", ini_string2)) \n",
    "  \n",
    "# printing resultant string \n",
    "print (\"first string result: \", str(res1)) \n",
    "print (\"second string result: \", str(res2)) \n"
   ]
  },
  {
   "cell_type": "markdown",
   "metadata": {},
   "source": [
    "Method #3: Using isalpha()\n",
    "\n"
   ]
  },
  {
   "cell_type": "code",
   "execution_count": 3,
   "metadata": {},
   "outputs": [
    {
     "name": "stdout",
     "output_type": "stream",
     "text": [
      "initial string :  123()#$ABGFDabcjw\n",
      "first result:  ABGFDabcjw\n"
     ]
    }
   ],
   "source": [
    "# Python code to demonstrate \n",
    "# to get characters in a string \n",
    "# if present \n",
    "  \n",
    "# initialising string \n",
    "ini_string = \"123()#$ABGFDabcjw\"\n",
    "  \n",
    "# printing string and its length \n",
    "print (\"initial string : \", ini_string) \n",
    "  \n",
    "# code to find characters in string \n",
    "res1 = \"\" \n",
    "for i in ini_string: \n",
    "    if i.isalpha(): \n",
    "        res1 = \"\".join([res1, i]) \n",
    "  \n",
    "  \n",
    "# printing resultant string \n",
    "print (\"first result: \", str(res1)) \n"
   ]
  },
  {
   "cell_type": "code",
   "execution_count": null,
   "metadata": {},
   "outputs": [],
   "source": []
  }
 ],
 "metadata": {
  "kernelspec": {
   "display_name": "Python 3",
   "language": "python",
   "name": "python3"
  },
  "language_info": {
   "codemirror_mode": {
    "name": "ipython",
    "version": 3
   },
   "file_extension": ".py",
   "mimetype": "text/x-python",
   "name": "python",
   "nbconvert_exporter": "python",
   "pygments_lexer": "ipython3",
   "version": "3.7.3"
  }
 },
 "nbformat": 4,
 "nbformat_minor": 2
}
