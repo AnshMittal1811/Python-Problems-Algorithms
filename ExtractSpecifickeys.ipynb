{
 "cells": [
  {
   "cell_type": "markdown",
   "metadata": {},
   "source": [
    "# Extract specific keys from dictionary"
   ]
  },
  {
   "cell_type": "markdown",
   "metadata": {},
   "source": [
    "We have a lot of variations and applications of dictionary container in Python and sometimes, we wish to perform a filter of keys in dictionary, i.e extracting just the keys which are present in particular container. Let’s discuss certain ways in which this can be performed.\n",
    "\n",
    "Method #1 : Using dictionary comprehension + items()\n",
    "\n",
    "This problem can be performed by reconstruction using the keys extracted through items function that wish to be filtered and dictionary function makes the desired dictionary."
   ]
  },
  {
   "cell_type": "code",
   "execution_count": 1,
   "metadata": {},
   "outputs": [
    {
     "name": "stdout",
     "output_type": "stream",
     "text": [
      "The original dictionary : {'nikhil': 1, 'akash': 2, 'akshat': 3, 'manjeet': 4}\n",
      "The filtered dictionary is : {'akshat': 3, 'nikhil': 1}\n"
     ]
    }
   ],
   "source": [
    "# Python3 code to demonstrate \n",
    "# Extracting specifix keys from dictionary \n",
    "# Using dictionary comprehension + items() \n",
    "  \n",
    "# initializing dictionary \n",
    "test_dict = {'nikhil' : 1, \"akash\" : 2, 'akshat' : 3, 'manjeet' : 4} \n",
    "  \n",
    "# printing original list \n",
    "print(\"The original dictionary : \" + str(test_dict)) \n",
    "  \n",
    "# Using dictionary comprehension + items() \n",
    "# Extracting specifix keys from dictionary \n",
    "res = {key: test_dict[key] for key in test_dict.keys() \n",
    "                               & {'akshat', 'nikhil'}} \n",
    "  \n",
    "# print result \n",
    "print(\"The filtered dictionary is : \" + str(res)) "
   ]
  },
  {
   "cell_type": "markdown",
   "metadata": {},
   "source": [
    "Method #2 : Using dict()\n",
    "\n",
    "The dict function can be used to perform this task by converting the logic performed using list comprehension into a dictionary."
   ]
  },
  {
   "cell_type": "code",
   "execution_count": 2,
   "metadata": {},
   "outputs": [
    {
     "name": "stdout",
     "output_type": "stream",
     "text": [
      "The original dictionary : {'nikhil': 1, 'akash': 2, 'akshat': 3, 'manjeet': 4}\n",
      "The filtered dictionary is : {'nikhil': 1, 'akshat': 3}\n"
     ]
    }
   ],
   "source": [
    "\n",
    "# Python3 code to demonstrate \n",
    "# Extracting specifix keys from dictionary \n",
    "# Using dict() \n",
    "  \n",
    "# initializing dictionary \n",
    "test_dict = {'nikhil' : 1, \"akash\" : 2, 'akshat' : 3, 'manjeet' : 4} \n",
    "  \n",
    "# printing original list \n",
    "print(\"The original dictionary : \" + str(test_dict)) \n",
    "  \n",
    "# Using dict() \n",
    "# Extracting specifix keys from dictionary \n",
    "res = dict((k, test_dict[k]) for k in ['nikhil', 'akshat'] \n",
    "                                        if k in test_dict) \n",
    "  \n",
    "# print result \n",
    "print(\"The filtered dictionary is : \" + str(res)) "
   ]
  },
  {
   "cell_type": "markdown",
   "metadata": {},
   "source": [
    "-------"
   ]
  }
 ],
 "metadata": {
  "kernelspec": {
   "display_name": "Python 3",
   "language": "python",
   "name": "python3"
  },
  "language_info": {
   "codemirror_mode": {
    "name": "ipython",
    "version": 3
   },
   "file_extension": ".py",
   "mimetype": "text/x-python",
   "name": "python",
   "nbconvert_exporter": "python",
   "pygments_lexer": "ipython3",
   "version": "3.7.3"
  }
 },
 "nbformat": 4,
 "nbformat_minor": 2
}
