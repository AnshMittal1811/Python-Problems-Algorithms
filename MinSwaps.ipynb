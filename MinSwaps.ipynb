{
 "cells": [
  {
   "cell_type": "markdown",
   "metadata": {},
   "source": [
    "# Minimum adjacent swaps to move maximum and minimum to corners\n"
   ]
  },
  {
   "cell_type": "markdown",
   "metadata": {},
   "source": [
    "Given N number of elements, find the minimum number of swaps required so that the maximum element is at the beginning and the minimum element is at last with the condition that only swapping of adjacent elements is allowed.\n",
    "\n",
    "Examples:\n",
    "\n",
    "\n",
    "Input: a[] = {3, 1, 5, 3, 5, 5, 2}\n",
    "\n",
    "Output: 6\n",
    "\n",
    "\n",
    "Step 1: Swap 5 with 1 to make the array as {3, 5, 1, 3, 5, 5, 2}\n",
    "\n",
    "Step 2: Swap 5 with 3 to make the array as {5, 3, 1, 3, 5, 5, 2}\n",
    "\n",
    "Step 3: Swap 1 with 3 at its right to make the array as {5, 3, 3, 1, 5, 5, 2}\n",
    "\n",
    "Step 4: Swap 1 with 5 at its right to make the array as {5, 3, 3, 5, 1, 5, 2}\n",
    "\n",
    "Step 5: Swap 1 with 5 at its right to make the array as {5, 3, 3, 5, 5, 1, 2}\n",
    "\n",
    "Step 6: Swap 1 with 2 at its right to make the array as {5, 3, 3, 5, 5, 2, 1}\n",
    "\n",
    "After performing 6 swapping operations 5 is at the beginning and 1 at the end\n",
    "\n",
    "\n",
    "\n",
    "Input: a[] = {5, 6, 1, 3}\n",
    "\n",
    "Output: 2\n"
   ]
  },
  {
   "cell_type": "markdown",
   "metadata": {},
   "source": [
    "The approach will be to find the index of the largest element(let l). Find the index of the leftmost largest element if largest element appears in the array more than once. Similarly, find the index of the rightmost smallest element(let r). There exists two cases to solve this problem.\n",
    "\n",
    "\n",
    "Case 1: If l < r: Number of swaps = l + (n-r-1)\n",
    "\n",
    "Case 2: If l > r: Number of swaps = l + (n-r-2), as one swap has already been performed while swapping the larger element to the front"
   ]
  },
  {
   "cell_type": "code",
   "execution_count": 3,
   "metadata": {},
   "outputs": [],
   "source": [
    "# Python3 program to count  \n",
    "# Minimum number of adjacent  \n",
    "# swaps so that the largest  \n",
    "# element is at beginning and  \n",
    "# the smallest element is at last. \n",
    "def minSwaps(arr): \n",
    "    '''Function that returns  \n",
    "       the minimum swaps'''\n",
    "      \n",
    "    n = len(arr) \n",
    "    maxx, minn, l, r = -1, arr[0], 0, 0\n",
    "  \n",
    "    for i in range(n): \n",
    "          \n",
    "        # Index of leftmost \n",
    "        # largest element \n",
    "        if arr[i] > maxx: \n",
    "            maxx = arr[i] \n",
    "            l = i \n",
    "              \n",
    "        # Index of rightmost  \n",
    "        # smallest element \n",
    "        if arr[i] <= minn: \n",
    "            minn = arr[i] \n",
    "            r = i \n",
    "              \n",
    "    if r < l:  \n",
    "        print(l + (n - r - 2)) \n",
    "    else: \n",
    "        print(l + (n - r - 1)) \n",
    "          "
   ]
  },
  {
   "cell_type": "code",
   "execution_count": 6,
   "metadata": {},
   "outputs": [
    {
     "name": "stdout",
     "output_type": "stream",
     "text": [
      "4\n"
     ]
    }
   ],
   "source": [
    "# Driver code \n",
    "arr = [5, 6, 1, 35 , 3] \n",
    "  \n",
    "minSwaps(arr) "
   ]
  },
  {
   "cell_type": "code",
   "execution_count": null,
   "metadata": {},
   "outputs": [],
   "source": []
  }
 ],
 "metadata": {
  "kernelspec": {
   "display_name": "Python 3",
   "language": "python",
   "name": "python3"
  },
  "language_info": {
   "codemirror_mode": {
    "name": "ipython",
    "version": 3
   },
   "file_extension": ".py",
   "mimetype": "text/x-python",
   "name": "python",
   "nbconvert_exporter": "python",
   "pygments_lexer": "ipython3",
   "version": "3.6.6"
  }
 },
 "nbformat": 4,
 "nbformat_minor": 2
}
