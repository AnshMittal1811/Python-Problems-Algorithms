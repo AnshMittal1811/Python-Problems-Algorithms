{
 "cells": [
  {
   "cell_type": "markdown",
   "metadata": {},
   "source": [
    "# Sliding Window Maximum (Maximum of all subarrays of size k) using stack in O(n) time"
   ]
  },
  {
   "cell_type": "markdown",
   "metadata": {},
   "source": [
    "Give an array arr[] of N integers and another integer k ≤ N. The task is to find the maximum element of every sub-array of size k.\n",
    "\n",
    "**Examples:**\n",
    "\n",
    "\n",
    "**Input:** arr[] = {9, 7, 2, 4, 6, 8, 2, 1, 5}, k = 3\n",
    "\n",
    "**Output:** 9 7 6 8 8 8 5\n",
    "\n",
    "**Window 1:** {9, 7, 2}, max = 9\n",
    "\n",
    "**Window 2:** {7, 2, 4}, max = 7\n",
    "\n",
    "**Window 3:** {2, 4, 6}, max = 6\n",
    "\n",
    "**Window 4:** {4, 6, 8}, max = 8\n",
    "\n",
    "**Window 5:** {6, 8, 2}, max = 8\n",
    "\n",
    "**Window 6:** {8, 2, 1}, max = 8\n",
    "\n",
    "**Window 7:** {2, 1, 5}, max = 5\n",
    "\n",
    "**Input:** arr[] = {6, 7, 5, 2, 1, 7, 2, 1, 10}, k = 2\n",
    "\n",
    "**Output:** 7 7 5 2 7 7 2 10\n",
    "\n",
    "\n",
    "**Prerequisite:** Next greater element\n",
    "\n",
    "**Approach:** If you know for every index i an index j ≥ i such that max(a[i], a[i + 1], … a[j]) = a[i]. Lets call it max_upto[i]. Then if you want to know the maximum element in the sub-array of length k starting from ith index you can get it by checking every index starting from i to i + k – 1 for which max_upto[i] ≥ i + k – 1 (last index of that window).\n"
   ]
  },
  {
   "cell_type": "code",
   "execution_count": 1,
   "metadata": {},
   "outputs": [],
   "source": [
    "# Function to print the maximum for \n",
    "# every k size sub-array \n",
    "def print_max(a, n, k): \n",
    "      \n",
    "    # max_upto array stores the index \n",
    "    # upto which the maximum element is a[i] \n",
    "    # i.e. max(a[i], a[i + 1], ... a[max_upto[i]]) = a[i] \n",
    "  \n",
    "    max_upto=[0 for i in range(n)] \n",
    "  \n",
    "    # Update max_upto array similar to \n",
    "    # finding next greater element \n",
    "    s=[] \n",
    "    s.append(0) \n",
    "  \n",
    "    for i in range(1,n): \n",
    "        while (len(s) > 0 and a[s[-1]] < a[i]): \n",
    "            max_upto[s[-1]] = i - 1\n",
    "            del s[-1] \n",
    "          \n",
    "        s.append(i) \n",
    "  \n",
    "    while (len(s) > 0): \n",
    "        max_upto[s[-1]] = n - 1\n",
    "        del s[-1] \n",
    "  \n",
    "    j = 0\n",
    "    for i in range(n - k + 1): \n",
    "  \n",
    "        # j < i is to check whether the \n",
    "        # jth element is outside the window \n",
    "        while (j < i or max_upto[j] < i + k - 1): \n",
    "            j += 1\n",
    "        print(a[j], end=\" \") \n",
    "    print()  \n"
   ]
  },
  {
   "cell_type": "code",
   "execution_count": 2,
   "metadata": {},
   "outputs": [
    {
     "name": "stdout",
     "output_type": "stream",
     "text": [
      "9 7 6 8 8 8 5 \n"
     ]
    }
   ],
   "source": [
    "  \n",
    "a = [9, 7, 2, 4, 6, 8, 2, 1, 5] \n",
    "n = len(a) \n",
    "k = 3\n",
    "print_max(a, n, k) \n"
   ]
  },
  {
   "cell_type": "code",
   "execution_count": null,
   "metadata": {},
   "outputs": [],
   "source": []
  }
 ],
 "metadata": {
  "kernelspec": {
   "display_name": "Python 3",
   "language": "python",
   "name": "python3"
  },
  "language_info": {
   "codemirror_mode": {
    "name": "ipython",
    "version": 3
   },
   "file_extension": ".py",
   "mimetype": "text/x-python",
   "name": "python",
   "nbconvert_exporter": "python",
   "pygments_lexer": "ipython3",
   "version": "3.7.3"
  }
 },
 "nbformat": 4,
 "nbformat_minor": 2
}
