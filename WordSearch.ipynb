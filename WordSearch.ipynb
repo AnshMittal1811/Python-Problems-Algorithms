{
 "cells": [
  {
   "cell_type": "code",
   "execution_count": 28,
   "metadata": {},
   "outputs": [],
   "source": [
    "# Python program to checck if the word exists in grid or not\n",
    "r = 10\n",
    "c = 10"
   ]
  },
  {
   "cell_type": "code",
   "execution_count": 29,
   "metadata": {},
   "outputs": [],
   "source": [
    "def findmatch(mat, pat, x, y, nrow, ncol, level):\n",
    "    l = len(pat)\n",
    "    # Pattern Matched\n",
    "    if (level == l):\n",
    "        return True\n",
    "    \n",
    "    #Out of Boundary\n",
    "    if (x<0 or y<0 or x>=nrow or y>= ncol):\n",
    "        return False\n",
    "    \n",
    "    #If a grid matches with a letter while recursion\n",
    "    if (mat[x][y] == pat[level]):\n",
    "        \n",
    "        #marking cell as visited\n",
    "        temp = mat[x][y]\n",
    "        mat[x].replace(mat[x][y], '#')\n",
    "        \n",
    "        #Finding subpatterns in all directions\n",
    "        res = (findmatch(mat, pat, x-1, y, nrow, ncol, level+1)|\n",
    "               findmatch(mat, pat, x+1, y, nrow, ncol, level+1)|\n",
    "               findmatch(mat, pat, x, y-1, nrow, ncol, level+1)|\n",
    "               findmatch(mat, pat, x, y+1, nrow, ncol, level+1))\n",
    "        \n",
    "        #marking this cell as unvisited again\n",
    "        mat[x].replace(mat[x][y], temp)\n",
    "        return res\n",
    "    \n",
    "    else: #Not matching then false\n",
    "        return False"
   ]
  },
  {
   "cell_type": "code",
   "execution_count": 30,
   "metadata": {},
   "outputs": [],
   "source": [
    "def checkMatch(mat, pat, nrow, ncol):\n",
    "    l= len(pat)\n",
    "    \n",
    "    #If total char in mat is less than pattern length\n",
    "    if (l > nrow*ncol):\n",
    "        return False\n",
    "    \n",
    "    # Traverse in the grid \n",
    "    for i in range(nrow):\n",
    "        for j in range(ncol):\n",
    "            \n",
    "            #If  first letter matches then recur and check\n",
    "            \n",
    "            if(mat[i][j] == pat[0]):\n",
    "                if(findmatch(mat, pat, i, j, nrow, ncol, 0)):\n",
    "                    return True\n",
    "                \n",
    "    return False\n"
   ]
  },
  {
   "cell_type": "code",
   "execution_count": 36,
   "metadata": {},
   "outputs": [
    {
     "name": "stdout",
     "output_type": "stream",
     "text": [
      "Yes\n"
     ]
    }
   ],
   "source": [
    "# Drive further :)\n",
    "if __name__ == '__main__':\n",
    "    \n",
    "    grid = [\"stfehtfoss\",\n",
    "            \"spacewalke\",\n",
    "            \"uiosabuser\",\n",
    "            \"mhcplfjmon\",\n",
    "            \"tsoiydudea\",\n",
    "            \"itclhlsbet\",\n",
    "            \"lnlbfalsuf\",\n",
    "            \"aetxvrhobe\",\n",
    "            \"bdoaceuslh\",\n",
    "            \"uunalmaiem\"]\n",
    "    \n",
    "    # Fn to check word exists or not\n",
    "    \n",
    "    if (checkMatch(grid, \"soft\", r, c)):\n",
    "        print(\"Yes\")\n",
    "    else:\n",
    "        print(\"No\")"
   ]
  },
  {
   "cell_type": "code",
   "execution_count": null,
   "metadata": {},
   "outputs": [],
   "source": []
  }
 ],
 "metadata": {
  "kernelspec": {
   "display_name": "Python 3",
   "language": "python",
   "name": "python3"
  },
  "language_info": {
   "codemirror_mode": {
    "name": "ipython",
    "version": 3
   },
   "file_extension": ".py",
   "mimetype": "text/x-python",
   "name": "python",
   "nbconvert_exporter": "python",
   "pygments_lexer": "ipython3",
   "version": "3.6.6"
  }
 },
 "nbformat": 4,
 "nbformat_minor": 2
}
