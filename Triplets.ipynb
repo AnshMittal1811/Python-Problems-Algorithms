{
 "cells": [
  {
   "cell_type": "markdown",
   "metadata": {},
   "source": [
    "# Count the triplets such that A[i] < B[j] < C[k]"
   ]
  },
  {
   "cell_type": "markdown",
   "metadata": {},
   "source": [
    "Given three array A[], B[] and C[] of N integers each. The task is to find the count of triplets (A[i], B[j], C[k]) such that A[i] < B[j] < C[k].\n",
    "\n",
    "\n",
    "**Input:** A[] = {1, 5}, B[] = {2, 4}, C[] = {3, 6}\n",
    "\n",
    "**Output:** 3\n",
    "\n",
    "Triplets are (1, 2, 3), (1, 4, 6) and (1, 2, 6)\n",
    "\n",
    "\n",
    "**Input:** A[] = {1, 1, 1}, B[] = {2, 2, 2}, C[] = {3, 3, 3}\n",
    "\n",
    "**Output:** 27\n",
    "\n",
    "\n",
    "\n",
    "\n",
    "**Approach:** Sort all the given arrays. Now fix an element say X in array **B[]** and for each X, the answer will be the product of the count of elements in array **A[]** which are less than X and the count of elements in array **C[]** which are greater than X. We can compute both of these counts using modified binary search."
   ]
  },
  {
   "cell_type": "code",
   "execution_count": 3,
   "metadata": {},
   "outputs": [],
   "source": [
    "# Function to return the count \n",
    "# of elements in arr[] which are \n",
    "# less than the given key \n",
    "def countLessThan(arr, n, key): \n",
    "    l = 0\n",
    "    r = n - 1\n",
    "    index = -1\n",
    "  \n",
    "    # Modified binary search \n",
    "    while (l <= r): \n",
    "        m = (l + r) // 2\n",
    "  \n",
    "        if (arr[m] < key) : \n",
    "            l = m + 1\n",
    "            index = m \n",
    "          \n",
    "        else : \n",
    "            r = m - 1\n",
    "          \n",
    "    return (index + 1) \n",
    "  \n",
    "# Function to return the count \n",
    "# of elements in arr[] which are \n",
    "# greater than the given key \n",
    "def countGreaterThan(arr, n, key): \n",
    "  \n",
    "    l = 0\n",
    "    r = n - 1\n",
    "    index = -1\n",
    "  \n",
    "    # Modified binary search \n",
    "    while (l <= r) : \n",
    "        m = (l + r) // 2\n",
    "  \n",
    "        if (arr[m] <= key) : \n",
    "            l = m + 1\n",
    "        else : \n",
    "            r = m - 1\n",
    "            index = m \n",
    "  \n",
    "    if (index == -1): \n",
    "        return 0\n",
    "    return (n - index) \n",
    "  \n",
    "  \n",
    "# Function to return the count \n",
    "# of the required triplets \n",
    "def countTriplets(n, a, b, c): \n",
    "  \n",
    "    # Sort all three arrays \n",
    "    a.sort \n",
    "    b.sort() \n",
    "    c.sort() \n",
    "  \n",
    "    count = 0\n",
    "  \n",
    "    # Iterate for all the elements of array B \n",
    "    for i in range(n): \n",
    "        current = b[i] \n",
    "        a_index = -1\n",
    "        c_index = -1\n",
    "  \n",
    "        # Count of elements in A[] \n",
    "        # which are less than the \n",
    "        # chosen element from B[] \n",
    "        low = countLessThan(a, n, current) \n",
    "  \n",
    "        # Count of elements in C[] \n",
    "        # which are greater than the \n",
    "        # chosen element from B[] \n",
    "        high = countGreaterThan(c, n, current) \n",
    "  \n",
    "        # Update the count \n",
    "        count += (low * high) \n",
    "  \n",
    "    return count \n",
    "  "
   ]
  },
  {
   "cell_type": "code",
   "execution_count": 4,
   "metadata": {},
   "outputs": [
    {
     "name": "stdout",
     "output_type": "stream",
     "text": [
      "3\n"
     ]
    }
   ],
   "source": [
    "if __name__ == \"__main__\": \n",
    "  \n",
    "    a = [ 1, 5 ] \n",
    "    b = [ 2, 4 ] \n",
    "    c = [ 3, 6 ] \n",
    "    size = len(a) \n",
    "  \n",
    "    print( countTriplets(size, a, b, c)) \n",
    "      "
   ]
  },
  {
   "cell_type": "code",
   "execution_count": null,
   "metadata": {},
   "outputs": [],
   "source": []
  }
 ],
 "metadata": {
  "kernelspec": {
   "display_name": "Python 3",
   "language": "python",
   "name": "python3"
  },
  "language_info": {
   "codemirror_mode": {
    "name": "ipython",
    "version": 3
   },
   "file_extension": ".py",
   "mimetype": "text/x-python",
   "name": "python",
   "nbconvert_exporter": "python",
   "pygments_lexer": "ipython3",
   "version": "3.7.3"
  }
 },
 "nbformat": 4,
 "nbformat_minor": 2
}
