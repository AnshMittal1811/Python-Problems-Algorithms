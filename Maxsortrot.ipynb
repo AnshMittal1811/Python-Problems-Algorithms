{
 "cells": [
  {
   "cell_type": "markdown",
   "metadata": {},
   "source": [
    "\n",
    "# Maximum element in a sorted and rotated array\n",
    "\n",
    "\n",
    "\n"
   ]
  },
  {
   "cell_type": "markdown",
   "metadata": {},
   "source": [
    "Given a sorted array arr[] of distinct elements which is rotated at some unknown point, the task is to find the maximum element in it.\n",
    "\n",
    "------\n",
    "**Examples:**\n",
    "\n",
    "\n",
    "**Input:** arr[] = {3, 4, 5, 1, 2}\n",
    "\n",
    "**Output:** 5\n",
    "\n",
    "------\n",
    "\n",
    "**Input:** arr[] = {1, 2, 3}\n",
    "\n",
    "**Output:** 3\n",
    "\n",
    "------\n",
    "------\n",
    "\n",
    "**Approach:** A simple solution is to traverse the complete array and find maximum. This solution requires O(n) time.\n",
    "\n",
    "We can do it in O(Logn) using Binary Search. If we take a closer look at above examples, we can easily figure out the following pattern:\n",
    "\n",
    "\n",
    "1.) The maximum element is the only element whose next is smaller than it. If there is no next smaller element, then there is no rotation (last element is the maximum). We check this condition for middle element by comparing it with elements at mid – 1 and mid + 1.\n",
    "\n",
    "\n",
    "2.) If maximum element is not at middle (neither mid nor mid + 1), then maximum element lies in either left half or right half.\n",
    "\n",
    "a)If middle element is greater than the last element, then the maximum element lies in the left half.\n",
    "\n",
    "b)Else maximum element lies in the right half."
   ]
  },
  {
   "cell_type": "code",
   "execution_count": 5,
   "metadata": {},
   "outputs": [],
   "source": [
    "# Function to return the maximum element \n",
    "def findMax(arr, low, high): \n",
    "  \n",
    "    # This condition is for the case when \n",
    "    # array is not rotated at all \n",
    "    if (high < low): \n",
    "        return arr[0] \n",
    "  \n",
    "    # If there is only one element left \n",
    "    if (high == low): \n",
    "        return arr[low] \n",
    "  \n",
    "    # Find mid \n",
    "    mid = low + (high - low) // 2\n",
    "  \n",
    "    # Check if mid itself is maximum element \n",
    "    if (mid < high and arr[mid + 1] < arr[mid]): \n",
    "        return arr[mid] \n",
    "      \n",
    "    # Check if element at (mid - 1) is maximum element \n",
    "    # Consider the cases like {4, 5, 1, 2, 3} \n",
    "    if (mid > low and arr[mid] < arr[mid - 1]): \n",
    "        return arr[mid - 1] \n",
    "  \n",
    "    # Decide whether we need to go to \n",
    "    # the left half or the right half \n",
    "    if (arr[low] > arr[mid]): \n",
    "        return findMax(arr, low, mid - 1) \n",
    "    else: \n",
    "        return findMax(arr, mid + 1, high) \n",
    "  "
   ]
  },
  {
   "cell_type": "code",
   "execution_count": 6,
   "metadata": {},
   "outputs": [
    {
     "name": "stdout",
     "output_type": "stream",
     "text": [
      "6\n"
     ]
    }
   ],
   "source": [
    "arr = [5, 6, 1, 2, 3, 4] \n",
    "n = len(arr) \n",
    "print(findMax(arr, 0, n - 1)) "
   ]
  },
  {
   "cell_type": "code",
   "execution_count": null,
   "metadata": {},
   "outputs": [],
   "source": []
  },
  {
   "cell_type": "code",
   "execution_count": null,
   "metadata": {},
   "outputs": [],
   "source": []
  },
  {
   "cell_type": "code",
   "execution_count": null,
   "metadata": {},
   "outputs": [],
   "source": []
  },
  {
   "cell_type": "code",
   "execution_count": null,
   "metadata": {},
   "outputs": [],
   "source": []
  }
 ],
 "metadata": {
  "kernelspec": {
   "display_name": "Python 3",
   "language": "python",
   "name": "python3"
  },
  "language_info": {
   "codemirror_mode": {
    "name": "ipython",
    "version": 3
   },
   "file_extension": ".py",
   "mimetype": "text/x-python",
   "name": "python",
   "nbconvert_exporter": "python",
   "pygments_lexer": "ipython3",
   "version": "3.7.3"
  }
 },
 "nbformat": 4,
 "nbformat_minor": 2
}
