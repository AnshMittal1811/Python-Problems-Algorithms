{
 "cells": [
  {
   "cell_type": "markdown",
   "metadata": {},
   "source": [
    "# Check if frequencies of all characters of a string are different"
   ]
  },
  {
   "cell_type": "markdown",
   "metadata": {},
   "source": [
    "Given a string S consisting only of lowercase letters, the task is to check if the frequency of all characters of the string is unique.\n",
    "\n",
    "Examples:"
   ]
  },
  {
   "cell_type": "markdown",
   "metadata": {},
   "source": [
    "Input : abaccc\n",
    "\n",
    "Output : Yes\n",
    "‘a’  occurs two times, ‘b’ occurs once\n",
    "and ‘c’ occurs three times.\n",
    "\n",
    "\n",
    "\n",
    "Input : aabbc\n",
    "\n",
    "Output : No\n",
    "Frequency of both 'a' and 'b' are same.\n"
   ]
  },
  {
   "cell_type": "markdown",
   "metadata": {},
   "source": [
    "Approach:\n",
    "One thing to observe in this problem is that position of characters does not matter here so, simply count the frequency of characters. Go through the string and count the occurrence of all characters. Then sort the frequency array and check if consecutive elements are same and immediately print “No” else print “Yes”.\n",
    "\n"
   ]
  },
  {
   "cell_type": "code",
   "execution_count": 7,
   "metadata": {},
   "outputs": [],
   "source": [
    "\n",
    "# Python program to check if frequency of \n",
    "# all characters of a string are unique \n",
    "    \n",
    "# creating a frequency array    \n",
    "\n",
    "def check(s):\n",
    "    freq =[0]*26\n",
    "\n",
    "    # Finding length of s  \n",
    "    n = len(s)  \n",
    "\n",
    "    for i in range(n):  \n",
    "\n",
    "        # counting frequency of all characters  \n",
    "        freq[ord(s[i])-97] += 1\n",
    "\n",
    "    # sorting the frequency array \n",
    "    freq.sort() \n",
    "    for i in range(25):  \n",
    "\n",
    "        # checking if element is zero \n",
    "        if (freq[i] == 0): \n",
    "            continue\n",
    "\n",
    "        # if element is non-zero \n",
    "        # checking if frequencies are unique \n",
    "        if (freq[i] == freq[i + 1]):  \n",
    "            return False\n",
    "\n",
    "    return True\n"
   ]
  },
  {
   "cell_type": "code",
   "execution_count": 8,
   "metadata": {},
   "outputs": [
    {
     "name": "stdout",
     "output_type": "stream",
     "text": [
      "Yes\n"
     ]
    }
   ],
   "source": [
    "# Driver code  \n",
    "s =\"abaccc\"\n",
    "  \n",
    "if(check(s)):  \n",
    "    print(\"Yes\")  \n",
    "else:  \n",
    "    print(\"No\")"
   ]
  },
  {
   "cell_type": "markdown",
   "metadata": {},
   "source": [
    "------"
   ]
  },
  {
   "cell_type": "code",
   "execution_count": null,
   "metadata": {},
   "outputs": [],
   "source": []
  }
 ],
 "metadata": {
  "kernelspec": {
   "display_name": "Python 3",
   "language": "python",
   "name": "python3"
  },
  "language_info": {
   "codemirror_mode": {
    "name": "ipython",
    "version": 3
   },
   "file_extension": ".py",
   "mimetype": "text/x-python",
   "name": "python",
   "nbconvert_exporter": "python",
   "pygments_lexer": "ipython3",
   "version": "3.7.3"
  }
 },
 "nbformat": 4,
 "nbformat_minor": 2
}
