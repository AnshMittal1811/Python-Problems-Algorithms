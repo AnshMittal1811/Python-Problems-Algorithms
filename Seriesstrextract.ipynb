{
 "cells": [
  {
   "cell_type": "markdown",
   "metadata": {},
   "source": [
    "# Pandas Series.str.extract()"
   ]
  },
  {
   "cell_type": "markdown",
   "metadata": {},
   "source": [
    "Series.str can be used to access the values of the series as strings and apply several methods to it. Pandas Series.str.extract() function is used to extract capture groups in the regex pat as columns in a DataFrame. For each subject string in the Series, extract groups from the first match of regular expression pat.\n",
    "\n",
    "Syntax: Series.str.extract(pat, flags=0, expand=True)\n",
    "\n",
    "Parameter :\n",
    "pat : Regular expression pattern with capturing groups.\n",
    "flags : int, default 0 (no flags)\n",
    "expand : If True, return DataFrame with one column per capture group.\n",
    "\n"
   ]
  },
  {
   "cell_type": "markdown",
   "metadata": {},
   "source": [
    "Example #1: Use Series.str.extract() function to extract groups from the string in the underlying data of the given series object.\n",
    "\n"
   ]
  },
  {
   "cell_type": "code",
   "execution_count": 1,
   "metadata": {},
   "outputs": [
    {
     "name": "stdout",
     "output_type": "stream",
     "text": [
      "City 1    New_York\n",
      "City 2      Lisbon\n",
      "City 3       Tokyo\n",
      "City 4       Paris\n",
      "City 5      Munich\n",
      "dtype: object\n"
     ]
    }
   ],
   "source": [
    "# importing pandas as pd \n",
    "import pandas as pd \n",
    "  \n",
    "# importing re for regular expressions \n",
    "import re \n",
    "  \n",
    "# Creating the Series \n",
    "sr = pd.Series(['New_York', 'Lisbon', 'Tokyo', 'Paris', 'Munich']) \n",
    "  \n",
    "# Creating the index \n",
    "idx = ['City 1', 'City 2', 'City 3', 'City 4', 'City 5'] \n",
    "  \n",
    "# set the index \n",
    "sr.index = idx \n",
    "  \n",
    "# Print the series \n",
    "print(sr) \n"
   ]
  },
  {
   "cell_type": "markdown",
   "metadata": {},
   "source": [
    "Now we will use Series.str.extract() function to extract groups from the strings in the given series object."
   ]
  },
  {
   "cell_type": "code",
   "execution_count": 2,
   "metadata": {},
   "outputs": [
    {
     "name": "stdout",
     "output_type": "stream",
     "text": [
      "         0\n",
      "City 1  ew\n",
      "City 2  is\n",
      "City 3  ok\n",
      "City 4  ar\n",
      "City 5  un\n"
     ]
    }
   ],
   "source": [
    "\n",
    "# extract groups having a vowel followed by \n",
    "# any character \n",
    "result = sr.str.extract(pat = '([aeiou].)') \n",
    "  \n",
    "# print the result \n",
    "print(result) "
   ]
  },
  {
   "cell_type": "markdown",
   "metadata": {},
   "source": [
    "As we can see in the output, the Series.str.extract() function has returned a dataframe containing a column of the extracted group.\n",
    "\n",
    "Example #2 : Use Series.str.extract() function to extract groups from the string in the underlying data of the given series object.\n",
    "\n"
   ]
  },
  {
   "cell_type": "code",
   "execution_count": 3,
   "metadata": {},
   "outputs": [
    {
     "name": "stdout",
     "output_type": "stream",
     "text": [
      "Name 1       Mike\n",
      "Name 2     Alessa\n",
      "Name 3       Nick\n",
      "Name 4        Kim\n",
      "Name 5    Britney\n",
      "dtype: object\n"
     ]
    }
   ],
   "source": [
    "\n",
    "# importing pandas as pd \n",
    "import pandas as pd \n",
    "  \n",
    "# importing re for regular expressions \n",
    "import re \n",
    "  \n",
    "# Creating the Series \n",
    "sr = pd.Series(['Mike', 'Alessa', 'Nick', 'Kim', 'Britney']) \n",
    "  \n",
    "# Creating the index \n",
    "idx = ['Name 1', 'Name 2', 'Name 3', 'Name 4', 'Name 5'] \n",
    "  \n",
    "# set the index \n",
    "sr.index = idx \n",
    "  \n",
    "# Print the series \n",
    "print(sr) "
   ]
  },
  {
   "cell_type": "markdown",
   "metadata": {},
   "source": [
    "Now we will use Series.str.extract() function to extract groups from the strings in the given series object.\n",
    "\n"
   ]
  },
  {
   "cell_type": "code",
   "execution_count": 4,
   "metadata": {},
   "outputs": [
    {
     "name": "stdout",
     "output_type": "stream",
     "text": [
      "          0\n",
      "Name 1  Mik\n",
      "Name 2  NaN\n",
      "Name 3  Nic\n",
      "Name 4  Kim\n",
      "Name 5  NaN\n"
     ]
    }
   ],
   "source": [
    "\n",
    "# extract groups having any capital letter \n",
    "# followed by 'i' and any other character \n",
    "result = sr.str.extract(pat = '([A-Z]i.)') \n",
    "  \n",
    "# print the result \n",
    "print(result) "
   ]
  },
  {
   "cell_type": "markdown",
   "metadata": {},
   "source": [
    "As we can see in the output, the Series.str.extract() function has returned a dataframe containing a column of the extracted group."
   ]
  },
  {
   "cell_type": "markdown",
   "metadata": {},
   "source": [
    "---------"
   ]
  }
 ],
 "metadata": {
  "kernelspec": {
   "display_name": "Python 3",
   "language": "python",
   "name": "python3"
  },
  "language_info": {
   "codemirror_mode": {
    "name": "ipython",
    "version": 3
   },
   "file_extension": ".py",
   "mimetype": "text/x-python",
   "name": "python",
   "nbconvert_exporter": "python",
   "pygments_lexer": "ipython3",
   "version": "3.7.3"
  }
 },
 "nbformat": 4,
 "nbformat_minor": 2
}
