{
 "cells": [
  {
   "cell_type": "markdown",
   "metadata": {},
   "source": [
    "# Find k closest numbers in an unsorted array"
   ]
  },
  {
   "cell_type": "markdown",
   "metadata": {},
   "source": [
    "Given an unsorted array and two numbers x and k, find k closest values to x.\n",
    "\n",
    "\n",
    "**Examples:**\n",
    "\n",
    "\n",
    "**Input:** arr[] = {10, 2, 14, 4, 7, 6}, x = 5, k = 3 \n",
    "\n",
    "**Output:** 4 6 7\n",
    "\n",
    "Three closest values of x are 4, 6 and 7.\n",
    "\n",
    "\n",
    "**Input:** arr[] = {-10, -50, 20, 17, 80}, x = 20, k = 2\n",
    "\n",
    "**Output:** 17, 20\n",
    "\n",
    "\n",
    "A simple solution is to sort the array. Then apply the method discussed to k closest values in a sorted array.\n",
    "\n",
    "\n",
    "**Time Complexity:** O(n Log n)\n",
    "\n",
    "\n",
    "A better solution is to use **Heap Data Structure**\n",
    "\n",
    "1) Make a max heap of differences with first k elements.\n",
    "\n",
    "2) For every element starting from (k+1)-th element, do following.\n",
    "\n",
    "…..a) Find difference of current element with x.\n",
    "\n",
    "…..b) If difference is more than root of heap, ignore current element.\n",
    "\n",
    "…..c) Else insert the current element to the heap after removing the root.\n",
    "\n",
    "3) Finally the heap has k closest elements."
   ]
  },
  {
   "cell_type": "code",
   "execution_count": 6,
   "metadata": {},
   "outputs": [],
   "source": [
    "import math \n",
    "import sys \n",
    "from queue import PriorityQueue \n",
    "def printKclosest(arr,n,x,k): \n",
    "  \n",
    "    # Make a max heap of difference with  \n",
    "    # first k elements.  \n",
    "    pq = PriorityQueue() \n",
    "    for i in range(k): \n",
    "        pq.put((-abs(arr[i]-x),i)) \n",
    "  \n",
    "    # Now process remaining elements \n",
    "    for i in range(k,n): \n",
    "        diff = abs(arr[i]-x) \n",
    "        p,pi = pq.get() \n",
    "        curr = -p \n",
    "  \n",
    "        # If difference with current  \n",
    "        # element is more than root,  \n",
    "        # then put it back.  \n",
    "        if diff>curr: \n",
    "            pq.put((-curr,pi)) \n",
    "            continue\n",
    "        else: \n",
    "  \n",
    "            # Else remove root and insert \n",
    "            pq.put((-diff,i)) \n",
    "              \n",
    "    # Print contents of heap. \n",
    "    while(not pq.empty()): \n",
    "        p,q = pq.get() \n",
    "        print(\"{} \".format(arr[q]),end = \"\") "
   ]
  },
  {
   "cell_type": "code",
   "execution_count": 9,
   "metadata": {},
   "outputs": [
    {
     "name": "stdout",
     "output_type": "stream",
     "text": [
      "-10 24 17 20 "
     ]
    }
   ],
   "source": [
    "if __name__=='__main__': \n",
    "    arr = [-10,-50,20,17,80,65,190,75,24] \n",
    "    x,k = 20,4\n",
    "    n = len(arr) \n",
    "    printKclosest(arr, n, x, k) "
   ]
  },
  {
   "cell_type": "code",
   "execution_count": null,
   "metadata": {},
   "outputs": [],
   "source": []
  },
  {
   "cell_type": "code",
   "execution_count": null,
   "metadata": {},
   "outputs": [],
   "source": []
  }
 ],
 "metadata": {
  "kernelspec": {
   "display_name": "Python 3",
   "language": "python",
   "name": "python3"
  },
  "language_info": {
   "codemirror_mode": {
    "name": "ipython",
    "version": 3
   },
   "file_extension": ".py",
   "mimetype": "text/x-python",
   "name": "python",
   "nbconvert_exporter": "python",
   "pygments_lexer": "ipython3",
   "version": "3.7.3"
  }
 },
 "nbformat": 4,
 "nbformat_minor": 2
}
