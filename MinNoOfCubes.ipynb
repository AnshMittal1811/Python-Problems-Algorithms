{
 "cells": [
  {
   "cell_type": "markdown",
   "metadata": {},
   "source": [
    "# Minimum number of cubes whose sum equals to given number N"
   ]
  },
  {
   "cell_type": "markdown",
   "metadata": {},
   "source": [
    "Given an integer n, the task is to find the minimum number of cubes whose sum equals to N.\n",
    "\n",
    "\n",
    "Examples:\n",
    "\n",
    "\n",
    "Input: N = 496\n",
    "\n",
    "Output: 3\n",
    "\n",
    "4^3 + 6^3 + 6^3 = 496\n",
    "\n",
    "Note that 13 + 33 + 53 + 73 = 496 but it requires 4 cubes.\n",
    "\n",
    "\n",
    "\n",
    "Input: N = 15\n",
    "\n",
    "Output: 8\n",
    "\n",
    "**Naive approach:** Write a recursive method that will take every perfect cube less than N say X as part of the summation and then recur for the number of cubes required for the remaining sum N – X. The time complexity of this solution is exponential.\n",
    "\n",
    "\n",
    "Below is the implementation of the above approach:"
   ]
  },
  {
   "cell_type": "code",
   "execution_count": 6,
   "metadata": {},
   "outputs": [],
   "source": [
    "  \n",
    "# Function to return the minimum  \n",
    "# number of cubes whose sum is k  \n",
    "def MinOfCubed(k): \n",
    "      \n",
    "    # If k is less than the 2 ^ 3  \n",
    "    if (k < 8):  \n",
    "        return k;  \n",
    "  \n",
    "    # Initialize with the maximum  \n",
    "    # number of cubes required  \n",
    "    res = k;  \n",
    "    for i in range(1, k + 1):  \n",
    "        if ((i * i * i) > k):  \n",
    "            return res;  \n",
    "        res = min(res, MinOfCubed(k - (i * i * i)) + 1);  \n",
    "    return res;  \n",
    "  \n"
   ]
  },
  {
   "cell_type": "code",
   "execution_count": 7,
   "metadata": {},
   "outputs": [
    {
     "name": "stdout",
     "output_type": "stream",
     "text": [
      "8\n"
     ]
    }
   ],
   "source": [
    "# Driver code  \n",
    "num = 15;  \n",
    "print(MinOfCubed(num)); "
   ]
  },
  {
   "cell_type": "markdown",
   "metadata": {},
   "source": [
    "**Efficient approach:** If we draw the complete recursion tree for the above solution, we can see that many sub-problems are solved again and again, so we can see that this problem has the overlapping sub-problems property. This leads us to solve the problem using the Dynamic Programming paradigm.\n",
    "\n",
    "\n",
    "Below is the implementation of the above approach:"
   ]
  },
  {
   "cell_type": "code",
   "execution_count": 3,
   "metadata": {},
   "outputs": [],
   "source": [
    "# Python implementation of the approach \n",
    "import sys \n",
    "  \n",
    "# Function to return the minimum \n",
    "# number of cubes whose sum is k \n",
    "def MinOfCubedDP(k): \n",
    "    DP = [0] * (k + 1); \n",
    "    j = 1; \n",
    "    t = 1; \n",
    "    DP[0] = 0; \n",
    "    for i in range(1, k + 1): \n",
    "        DP[i] = sys.maxsize; \n",
    "  \n",
    "        # While current perfect cube \n",
    "        # is less than current element \n",
    "        while (j <= i): \n",
    "  \n",
    "            # If i is a perfect cube \n",
    "            if (j == i): \n",
    "                DP[i] = 1; \n",
    "  \n",
    "            # i = (i - 1) + 1^3 \n",
    "            elif (DP[i] > DP[i - j]): \n",
    "                DP[i] = DP[i - j] + 1; \n",
    "  \n",
    "            # Next perfect cube \n",
    "            t += 1; \n",
    "            j = t * t * t; \n",
    "  \n",
    "        # Re-initialization for next element \n",
    "        t = j = 1; \n",
    "    return DP[k]; \n"
   ]
  },
  {
   "cell_type": "code",
   "execution_count": 8,
   "metadata": {},
   "outputs": [
    {
     "name": "stdout",
     "output_type": "stream",
     "text": [
      "8\n"
     ]
    }
   ],
   "source": [
    "  \n",
    "  \n",
    "# Driver code \n",
    "num = 15; \n",
    "print(MinOfCubedDP(num)); "
   ]
  },
  {
   "cell_type": "code",
   "execution_count": null,
   "metadata": {},
   "outputs": [],
   "source": []
  }
 ],
 "metadata": {
  "kernelspec": {
   "display_name": "Python 3",
   "language": "python",
   "name": "python3"
  },
  "language_info": {
   "codemirror_mode": {
    "name": "ipython",
    "version": 3
   },
   "file_extension": ".py",
   "mimetype": "text/x-python",
   "name": "python",
   "nbconvert_exporter": "python",
   "pygments_lexer": "ipython3",
   "version": "3.7.3"
  }
 },
 "nbformat": 4,
 "nbformat_minor": 2
}
