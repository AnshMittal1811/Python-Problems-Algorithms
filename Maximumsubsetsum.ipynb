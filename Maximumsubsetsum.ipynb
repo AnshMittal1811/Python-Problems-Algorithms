{
 "cells": [
  {
   "cell_type": "markdown",
   "metadata": {},
   "source": [
    "# Maximum subset sum such that no two elements in set have same digit in them"
   ]
  },
  {
   "cell_type": "markdown",
   "metadata": {},
   "source": [
    "Given an array of N elements. Find the subset of elements which has maximum sum such that no two elements in the subset has common digit present in them.\n",
    "\n",
    "Examples:\n",
    "\n",
    "**Input** : array[] = {22, 132, 4, 45, 12, 223}\n",
    "\n",
    "**Output** : 268\n",
    "\n",
    "**Maximum Sum Subset will be** = {45, 223} .\n",
    "All possible digits are present except 1.\n",
    "But to include 1 either 2 or both 2 and 3 have\n",
    "to be removed which result in smaller sum value.\n",
    "\n",
    "Input : array[] = {1, 21, 32, 4, 5 }\n",
    "Output : 42\n",
    "\n",
    "\n",
    "------- \n",
    "Here we can use Dynamic Programming and Bit Masking to solve this question.\n",
    "\n",
    "\n",
    "Consider a 10-bit representation of every number where each bit is 1 if digit corresponding to that bit is present in that number.\n",
    "\n",
    "\n",
    "Now maintain a dp[i], which stores the maximum possible sum which can be achieved with all those digits present in the set, corresponding to the bit positions which are 1 in Binary Representation of i.\n",
    "\n",
    "\n",
    "Recurrence Relation will be of the form dp[i] = max(dp[i], dp[i^mask] + a[j]) , for all those j from 1 to n such that mask (10-bit Representation of a[j]) satisfy i || mask = i. (Since then only we can assure that all digit available in i are satisfied).\n",
    "Below is the implementation of the above approach"
   ]
  },
  {
   "cell_type": "code",
   "execution_count": null,
   "metadata": {},
   "outputs": [],
   "source": [
    "dp = [0]*1024;  \n",
    "  \n",
    "# Function to create mask for every number  \n",
    "def get_binary(u) :  \n",
    "  \n",
    "    ans = 0;  \n",
    "    while (u) : \n",
    "        rem = u % 10;  \n",
    "        ans |= (1 << rem);  \n",
    "        u //= 10;  \n",
    "    return ans;  \n",
    "  \n",
    "  \n",
    "# Recursion for Filling DP array  \n",
    "def recur(u, array, n) :  \n",
    "  \n",
    "    # Base Condition  \n",
    "    if (u == 0) : \n",
    "        return 0;  \n",
    "          \n",
    "    if (dp[u] != -1) :  \n",
    "        return dp[u];  \n",
    "  \n",
    "    temp = 0;  \n",
    "    for i in range(n) :  \n",
    "        mask = get_binary(array[i]);  \n",
    "  \n",
    "        # Recurrence Relation  \n",
    "        if ((mask | u) == u) : \n",
    "            dp[u] = max(max(0, dp[u ^ mask]) + array[i], dp[u]);  \n",
    "  \n",
    "    return dp[u];  \n",
    "  \n",
    "  \n",
    "# Function to find Maximum Subset Sum  \n",
    "def solve(array, n)  : \n",
    "    i = 0\n",
    "      \n",
    "    # Initialize DP array  \n",
    "    while(i < (1 << 10)) : \n",
    "        dp[i] = -1; \n",
    "        i += 1\n",
    "      \n",
    "    ans = 0;  \n",
    "  \n",
    "    i = 0\n",
    "    # Iterate over all possible masks of 10 bit number \n",
    "    while(i < (1 << 10)) : \n",
    "        ans = max(ans, recur(i, array, n)); \n",
    "          \n",
    "        i += 1\n",
    "      \n",
    "    return ans;  \n",
    "  \n"
   ]
  },
  {
   "cell_type": "code",
   "execution_count": null,
   "metadata": {},
   "outputs": [],
   "source": [
    "# Driver Code  \n",
    "if __name__ ==  \"__main__\" :  \n",
    "  \n",
    "    array = [ 22, 132, 4, 45, 12, 223 ] ;  \n",
    "    n = len(array);  \n",
    "      \n",
    "    print(solve(array, n));  "
   ]
  }
 ],
 "metadata": {
  "kernelspec": {
   "display_name": "Python 3",
   "language": "python",
   "name": "python3"
  },
  "language_info": {
   "codemirror_mode": {
    "name": "ipython",
    "version": 3
   },
   "file_extension": ".py",
   "mimetype": "text/x-python",
   "name": "python",
   "nbconvert_exporter": "python",
   "pygments_lexer": "ipython3",
   "version": "3.7.3"
  }
 },
 "nbformat": 4,
 "nbformat_minor": 2
}
