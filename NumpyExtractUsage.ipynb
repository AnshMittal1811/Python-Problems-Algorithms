{
 "cells": [
  {
   "cell_type": "markdown",
   "metadata": {},
   "source": [
    "# numpy.extract() in Python\n"
   ]
  },
  {
   "cell_type": "markdown",
   "metadata": {},
   "source": [
    "numpy.extract(condition, array) : Return elements of input_array if they satisfy some specified condition.\n",
    "\n",
    "Parameters :\n",
    "\n"
   ]
  },
  {
   "cell_type": "markdown",
   "metadata": {},
   "source": [
    "array     : Input array. User apply conditions on input_array elements\n",
    "\n",
    "condition : [array_like]Condition on the basis of which user extract elements. \n",
    "      Applying condition on input_array, if we print condition, it will return an array\n",
    "      filled with either True or False. Array elements are extracted from the Indices having \n",
    "      True value."
   ]
  },
  {
   "cell_type": "markdown",
   "metadata": {},
   "source": [
    "Returns :\n",
    "\n"
   ]
  },
  {
   "cell_type": "markdown",
   "metadata": {},
   "source": [
    "Array elements that satisfy the condition.\n"
   ]
  },
  {
   "cell_type": "code",
   "execution_count": 2,
   "metadata": {},
   "outputs": [
    {
     "name": "stdout",
     "output_type": "stream",
     "text": [
      "Original array : \n",
      " [[0 1]\n",
      " [2 3]\n",
      " [4 5]\n",
      " [6 7]\n",
      " [8 9]]\n",
      "\n",
      "Array Condition a : \n",
      " [[False  True]\n",
      " [ True  True]\n",
      " [False  True]\n",
      " [ True  True]\n",
      " [False  True]]\n",
      "\n",
      "Elements that satisfy conditon a  : \n",
      " [1 2 3 5 6 7 9]\n",
      "\n",
      "Array Condition b : \n",
      " [[False False]\n",
      " [False False]\n",
      " [False  True]\n",
      " [False False]\n",
      " [False False]]\n",
      "\n",
      "Elements that satisfy conditon b  : \n",
      " [5]\n"
     ]
    }
   ],
   "source": [
    "import numpy as geek \n",
    "  \n",
    "array = geek.arange(10).reshape(5, 2) \n",
    "print(\"Original array : \\n\", array) \n",
    "  \n",
    "a = geek.mod(array, 4) !=0\n",
    "# This will show element status of satisfying condition \n",
    "print(\"\\nArray Condition a : \\n\", a) \n",
    "  \n",
    "# This will return elements that satisy conditon \"a\" condition \n",
    "print(\"\\nElements that satisfy conditon a  : \\n\", geek.extract(a, array)) \n",
    "  \n",
    "  \n",
    "  \n",
    "b = array - 4 == 1\n",
    "# This will show element status of satisfying condition \n",
    "print(\"\\nArray Condition b : \\n\", b) \n",
    "  \n",
    "# This will return elements that satisy conditon \"b\" condition \n",
    "print(\"\\nElements that satisfy conditon b  : \\n\", geek.extract(b, array)) \n"
   ]
  },
  {
   "cell_type": "markdown",
   "metadata": {},
   "source": [
    "-----------"
   ]
  }
 ],
 "metadata": {
  "kernelspec": {
   "display_name": "Python 3",
   "language": "python",
   "name": "python3"
  },
  "language_info": {
   "codemirror_mode": {
    "name": "ipython",
    "version": 3
   },
   "file_extension": ".py",
   "mimetype": "text/x-python",
   "name": "python",
   "nbconvert_exporter": "python",
   "pygments_lexer": "ipython3",
   "version": "3.7.3"
  }
 },
 "nbformat": 4,
 "nbformat_minor": 2
}
