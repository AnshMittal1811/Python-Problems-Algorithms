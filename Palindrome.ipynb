{
 "cells": [
  {
   "cell_type": "markdown",
   "metadata": {},
   "source": [
    "# Program to check if an Array is Palindrome or not"
   ]
  },
  {
   "cell_type": "markdown",
   "metadata": {},
   "source": [
    "Given an array, the task is to determine whether an array is a palindrome or not.\n",
    "\n",
    "**Examples:**\n",
    "\n",
    "\n",
    "**Input:** arr[] = {3, 6, 0, 6, 3}\n",
    "\n",
    "**Output:** Palindrome\n",
    "\n",
    "----------\n",
    "\n",
    "**Input:** arr[] = {1, 2, 3, 4, 5}\n",
    "\n",
    "**Output:** Not Palindrome\n",
    "\n",
    "----------\n",
    "\n",
    "**Approach:**\n",
    "\n",
    "1. Initialise flag to unset int flag = 0.\n",
    "2. Loop the array till size n/2\n",
    "3. In a loop check if arr[i]! = arr+[n-i-1] then set the flag = 1 and break\n",
    "4. After the loop has ended, If flag is set the print “Not Palindrome” else print “Palindrome”\n"
   ]
  },
  {
   "cell_type": "code",
   "execution_count": 1,
   "metadata": {},
   "outputs": [],
   "source": [
    "def palindrome(arr, n): \n",
    "  \n",
    "    # Initialise flag to zero. \n",
    "    flag = 0; \n",
    "  \n",
    "    # Loop till array size n/2. \n",
    "    i = 0; \n",
    "    while (i <= n // 2 and n != 0): \n",
    "  \n",
    "        # Check if first and last element  \n",
    "        # are different. Then set flag to 1. \n",
    "        if (arr[i] != arr[n - i - 1]): \n",
    "            flag = 1; \n",
    "            break; \n",
    "        i += 1; \n",
    "  \n",
    "    # If flag is set then print Not Palindrome \n",
    "    # else print Palindrome. \n",
    "    if (flag == 1): \n",
    "        print(\"Not Palindrome\"); \n",
    "    else: \n",
    "        print(\"Palindrome\"); \n",
    "\n"
   ]
  },
  {
   "cell_type": "code",
   "execution_count": 2,
   "metadata": {},
   "outputs": [
    {
     "name": "stdout",
     "output_type": "stream",
     "text": [
      "Not Palindrome\n"
     ]
    }
   ],
   "source": [
    "arr = [ 1, 2, 3, 5, 2, 1 ]; \n",
    "n = len(arr); \n",
    "  \n",
    "palindrome(arr, n); \n"
   ]
  },
  {
   "cell_type": "code",
   "execution_count": null,
   "metadata": {},
   "outputs": [],
   "source": []
  }
 ],
 "metadata": {
  "kernelspec": {
   "display_name": "Python 3",
   "language": "python",
   "name": "python3"
  },
  "language_info": {
   "codemirror_mode": {
    "name": "ipython",
    "version": 3
   },
   "file_extension": ".py",
   "mimetype": "text/x-python",
   "name": "python",
   "nbconvert_exporter": "python",
   "pygments_lexer": "ipython3",
   "version": "3.6.6"
  }
 },
 "nbformat": 4,
 "nbformat_minor": 2
}
