{
 "cells": [
  {
   "cell_type": "markdown",
   "metadata": {},
   "source": [
    "# Optimal Strategy for a Game\n",
    "\n",
    "Problem statement: Consider a row of n coins of values v1 . . . vn, where n is even. We play a game against an opponent by alternating turns. In each turn, a player selects either the first or last coin from the row, removes it from the row permanently, and receives the value of the coin. Determine the maximum possible amount of money we can definitely win if we move first.\n",
    "\n",
    "\n",
    "Note: The opponent is as clever as the user.\n",
    "\n",
    "\n",
    "Let us understand the problem with few examples:\n",
    "\n",
    "\n",
    "1. 5, 3, 7, 10 : The user collects maximum value as 15(10 + 5)\n",
    "\n",
    "\n",
    "2. 8, 15, 3, 7 : The user collects maximum value as 22(7 + 15)\n",
    "\n",
    "\n",
    "Does choosing the best at each move give an optimal solution?\n",
    "\n",
    "\n",
    "No. In the second example, this is how the game can finish:\n",
    "\n",
    "\n",
    "1.\n",
    "\n",
    "…….User chooses 8.\n",
    "\n",
    "…….Opponent chooses 15.\n",
    "\n",
    "…….User chooses 7.\n",
    "\n",
    "…….Opponent chooses 3.\n",
    "\n",
    "Total value collected by user is 15(8 + 7)\n",
    "\n",
    "\n",
    "2.\n",
    "\n",
    "…….User chooses 7.\n",
    "\n",
    "…….Opponent chooses 8.\n",
    "\n",
    "…….User chooses 15.\n",
    "\n",
    "…….Opponent chooses 3.\n",
    "\n",
    "Total value collected by user is 22(7 + 15)\n",
    "\n",
    "So if the user follows the second game state, maximum value can be collected although the first move is not the best.\n",
    "\n",
    "\n",
    "Recommended: Please try your approach on {IDE} first, before moving on to the solution.\n",
    "\n",
    "We have discussed an approach that makes 4 recursive calls. In this post, a new approach is discussed that makes two recursive calls.\n",
    "\n",
    "\n",
    "There are two choices:\n",
    "\n",
    "1. The user chooses the ith coin with value Vi: The opponent either chooses (i+1)th coin or jth coin. The opponent intends to choose the coin which leaves the user with minimum value. i.e. The user can collect the value Vi + (Sum – Vi) + F(i+1, j, Sum) where Sum is sum of coins from index i to j. The expression can be simplified to Sum + F(i+1, j, Sum)\n",
    "\n",
    "2. The user chooses the jth coin with value Vj: The opponent either chooses ith coin or (j-1)th coin. The opponent intends to choose the coin which leaves the user with minimum value. i.e. The user can collect the value Vj + (Sum – Vj) + F(i, j-1, Sum) where Sum is sum of coins from index i to j. The expression can be simplified to Sum + F(i, j-1, Sum)\n"
   ]
  },
  {
   "cell_type": "markdown",
   "metadata": {},
   "source": [
    "Following is recursive solution that is based on above two choices. We take the maximum of two choices.\n",
    "\n",
    "\n",
    "F(i, j)  represents the maximum value the user can collect from \n",
    "         i'th coin to j'th coin.\n",
    "\n",
    "    \n",
    "    F(i, j)  = Max(Sum + F(i+1, j, Sum), \n",
    "                   Sum + F(i, j-1, Sum)) \n",
    "\n",
    "Base Case\n",
    "    F(i, j)  = max(Vi, Vj)  If j == i+1"
   ]
  },
  {
   "cell_type": "code",
   "execution_count": 3,
   "metadata": {},
   "outputs": [],
   "source": [
    "\n",
    "# python program to find out maximum value from a \n",
    "# given sequence of coins \n",
    "  \n",
    "def oSRec (arr, i, j, Sum): \n",
    "  \n",
    "    if (j == i + 1): \n",
    "        return max(arr[i], arr[j]) \n",
    "  \n",
    "    # For both of your choices, the opponent \n",
    "    # gives you total Sum minus maximum of \n",
    "    # his value \n",
    "    return max((Sum - oSRec(arr, i + 1, j, Sum - arr[i])), \n",
    "                (Sum - oSRec(arr, i, j - 1, Sum - arr[j]))) \n",
    "  \n",
    "# Returns optimal value possible that a player can \n",
    "# collect from an array of coins of size n. Note \n",
    "# than n must be even \n",
    "def optimalStrategyOfGame(arr, n): \n",
    "  \n",
    "    Sum = 0\n",
    "    Sum = sum(arr) \n",
    "    return oSRec(arr, 0, n - 1, Sum) \n",
    "  \n"
   ]
  },
  {
   "cell_type": "code",
   "execution_count": 4,
   "metadata": {},
   "outputs": [
    {
     "name": "stdout",
     "output_type": "stream",
     "text": [
      "22\n",
      "4\n",
      "42\n"
     ]
    }
   ],
   "source": [
    "# Driver code \n",
    "  \n",
    "arr1= [ 8, 15, 3, 7] \n",
    "n = len(arr1) \n",
    "print(optimalStrategyOfGame(arr1, n)) \n",
    "  \n",
    "arr2= [ 2, 2, 2, 2 ] \n",
    "n = len(arr2) \n",
    "print(optimalStrategyOfGame(arr2, n)) \n",
    "  \n",
    "arr3= [ 20, 30, 2, 2, 2, 10 ] \n",
    "n = len(arr3) \n",
    "print(optimalStrategyOfGame(arr3, n))"
   ]
  }
 ],
 "metadata": {
  "kernelspec": {
   "display_name": "Python 3",
   "language": "python",
   "name": "python3"
  },
  "language_info": {
   "codemirror_mode": {
    "name": "ipython",
    "version": 3
   },
   "file_extension": ".py",
   "mimetype": "text/x-python",
   "name": "python",
   "nbconvert_exporter": "python",
   "pygments_lexer": "ipython3",
   "version": "3.6.6"
  }
 },
 "nbformat": 4,
 "nbformat_minor": 2
}
