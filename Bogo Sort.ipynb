{
 "cells": [
  {
   "cell_type": "code",
   "execution_count": 1,
   "metadata": {},
   "outputs": [],
   "source": [
    "# Python program for implementation of Bogo Sort \n",
    "import random \n",
    "  \n",
    "# Sorts array a[0..n-1] using Bogo sort \n",
    "def bogoSort(a): \n",
    "    n = len(a) \n",
    "    while (is_sorted(a)== False): \n",
    "        shuffle(a) \n",
    "  \n",
    "# To check if array is sorted or not \n",
    "def is_sorted(a): \n",
    "    n = len(a) \n",
    "    for i in range(0, n-1): \n",
    "        if (a[i] > a[i+1] ): \n",
    "            return False\n",
    "    return True\n",
    "  \n",
    "# To generate permuatation of the array \n",
    "def shuffle(a): \n",
    "    n = len(a) \n",
    "    for i in range (0,n): \n",
    "        r = random.randint(0,n-1) \n",
    "        a[i], a[r] = a[r], a[i] \n",
    "  \n"
   ]
  },
  {
   "cell_type": "code",
   "execution_count": 2,
   "metadata": {},
   "outputs": [
    {
     "name": "stdout",
     "output_type": "stream",
     "text": [
      "Sorted array :\n",
      "0\n",
      "1\n",
      "2\n",
      "3\n",
      "4\n",
      "5\n"
     ]
    }
   ],
   "source": [
    "# Driver code to test above \n",
    "a = [3, 2, 4, 1, 0, 5] \n",
    "bogoSort(a) \n",
    "print(\"Sorted array :\") \n",
    "for i in range(len(a)): \n",
    "    print (\"%d\" %a[i]), "
   ]
  }
 ],
 "metadata": {
  "kernelspec": {
   "display_name": "Python 3",
   "language": "python",
   "name": "python3"
  },
  "language_info": {
   "codemirror_mode": {
    "name": "ipython",
    "version": 3
   },
   "file_extension": ".py",
   "mimetype": "text/x-python",
   "name": "python",
   "nbconvert_exporter": "python",
   "pygments_lexer": "ipython3",
   "version": "3.7.3"
  }
 },
 "nbformat": 4,
 "nbformat_minor": 2
}
