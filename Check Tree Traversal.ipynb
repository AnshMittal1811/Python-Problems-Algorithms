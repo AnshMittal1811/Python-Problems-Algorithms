{
 "cells": [
  {
   "cell_type": "markdown",
   "metadata": {},
   "source": [
    "# Check if given Preorder, Inorder and Postorder traversals are of same tree"
   ]
  },
  {
   "cell_type": "markdown",
   "metadata": {},
   "source": [
    "Given Preorder, Inorder and Postorder traversals of some tree. The task is to check if they all are of the same tree.\n",
    "\n",
    "**Examples:**\n",
    "\n",
    "**Input :** Inorder -> 4 2 5 1 3\n",
    "        Preorder -> 1 2 4 5 3\n",
    "        Postorder -> 4 5 2 3 1\n",
    "**Output:** Yes\n",
    "**Exaplanation:** All of the above three traversals are of the same tree.             \n",
    "                           \n",
    "                           1\n",
    "                           \n",
    "                         /   \\\n",
    "                         \n",
    "                        2     3\n",
    "                        \n",
    "                      /   \\\n",
    "                     \n",
    "                     4     5\n",
    "\n",
    "**Input :** Inorder -> 4 2 5 1 3\n",
    "        Preorder -> 1 5 4 2 3\n",
    "        Postorder -> 4 1 2 3 5\n",
    "**Output :** No"
   ]
  },
  {
   "cell_type": "markdown",
   "metadata": {},
   "source": [
    "**Approach:**\n",
    "\n",
    "Search for the first element of preorder array in the inorder array and store it’s index as idx, if it doesn’t exist then return False.\n",
    "\n",
    "Everything from 0th index for inorder and postorder and from 1st index for preorder of length idx becomes left subtree for first element of the preorder array.\n",
    "\n",
    "Everything from position idx+1 for inorder and preorder and from idx for postorder of length (length-idx-1) becomes right subtree for first element of preorder array.\n",
    "\n",
    "Repeat the steps 1 to 3 recursively until length of arrays become either 0 (in which case we return true) or 1 (in which case we return True only if all three arrays are equal, else False).\n",
    "\n",
    "\n",
    "\n",
    "Below is the implementation of the above approach:"
   ]
  },
  {
   "cell_type": "code",
   "execution_count": 1,
   "metadata": {},
   "outputs": [],
   "source": [
    "def checktree(preorder, inorder, postorder, length): \n",
    "      \n",
    "    # if the array lengths are 0,  \n",
    "    # then all of them are obviously equal \n",
    "    if length == 0:  \n",
    "        return 1\n",
    "          \n",
    "    # if array lengths are 1,  \n",
    "    # then check if all of them are equal \n",
    "    if length == 1:  \n",
    "        return (preorder[0] == inorder[0]) and (inorder[0] == postorder[0]); \n",
    "  \n",
    "    # search for first element of preorder  \n",
    "    # in inorder array \n",
    "    idx = -1; \n",
    "      \n",
    "    for i in range(length): \n",
    "        if inorder[i] == preorder[0]: \n",
    "            idx = i \n",
    "            break\n",
    "      \n",
    "    if idx == -1: \n",
    "        return 0; \n",
    "      \n",
    "    # check for the left subtree \n",
    "    ret1 = checktree(preorder[1:], inorder, postorder, idx); \n",
    "      \n",
    "    # check for the right subtree      \n",
    "    ret2 = checktree(preorder[idx + 1:], inorder[idx + 1:],  \n",
    "                           postorder[idx:], length-idx-1); \n",
    "      \n",
    "    # return 1 only if both of them are correct else 0 \n",
    "    return (ret1 and ret2) \n"
   ]
  },
  {
   "cell_type": "code",
   "execution_count": 2,
   "metadata": {},
   "outputs": [
    {
     "name": "stdout",
     "output_type": "stream",
     "text": [
      "Yes\n"
     ]
    }
   ],
   "source": [
    "  \n",
    "# Driver Code \n",
    "if __name__ == \"__main__\": \n",
    "    inorder = [4, 2, 5, 1, 3]  \n",
    "    preorder = [1, 2, 4, 5, 3]  \n",
    "    postorder = [4, 5, 2, 3, 1] \n",
    "    len1 = len(inorder) \n",
    "    len2 = len(preorder) \n",
    "    len3 = len(postorder) \n",
    "  \n",
    "    # check if all the array lengths are equal \n",
    "    if (len1 == len2) and (len2 == len3): \n",
    "        correct = checktree(preorder, inorder,  \n",
    "                                postorder, len1) \n",
    "        if (correct):  \n",
    "            print(\"Yes\")  \n",
    "        else:  \n",
    "            print(\"No\") \n",
    "    else: \n",
    "        print(\"No\"); "
   ]
  },
  {
   "cell_type": "code",
   "execution_count": null,
   "metadata": {},
   "outputs": [],
   "source": []
  }
 ],
 "metadata": {
  "kernelspec": {
   "display_name": "Python 3",
   "language": "python",
   "name": "python3"
  },
  "language_info": {
   "codemirror_mode": {
    "name": "ipython",
    "version": 3
   },
   "file_extension": ".py",
   "mimetype": "text/x-python",
   "name": "python",
   "nbconvert_exporter": "python",
   "pygments_lexer": "ipython3",
   "version": "3.7.3"
  }
 },
 "nbformat": 4,
 "nbformat_minor": 2
}
