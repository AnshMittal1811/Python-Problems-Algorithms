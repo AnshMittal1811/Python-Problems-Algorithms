{
 "cells": [
  {
   "cell_type": "markdown",
   "metadata": {},
   "source": [
    "# Convert the undirected graph into directed graph such that there is no path of length greater than 1"
   ]
  },
  {
   "cell_type": "markdown",
   "metadata": {},
   "source": [
    "Given an undirected graph with N vertices and M edges and no self loops or multiple edges. The task is to convert the given undirected graph into a directed graph such that there is no path of length greater than 1. If it is possible to make such a graph then print two space-separated integers u and v in M lines where u, v denotes source and destination vertices respectively. If not possible then print -1."
   ]
  },
  {
   "cell_type": "code",
   "execution_count": 2,
   "metadata": {},
   "outputs": [],
   "source": [
    "\n",
    "N = 100005\n",
    "   \n",
    "# To store the graph \n",
    "gr = [[] for i in range(N)] \n",
    "   \n",
    "# To store colour of each vertex \n",
    "colour = [-1] * N \n",
    "   \n",
    "# To store edges \n",
    "edges = [] \n",
    "   \n",
    "# To check graph is bipartite or not \n",
    "bip = True\n",
    "   \n",
    "# Function to add edges \n",
    "def add_edge(x, y): \n",
    "  \n",
    "    gr[x].append(y) \n",
    "    gr[y].append(x) \n",
    "    edges.append((x, y)) \n",
    "  \n",
    "# Function to check given graph \n",
    "# is bipartite or not \n",
    "def dfs(x, col): \n",
    "  \n",
    "    # colour the vertex x \n",
    "    colour[x] = col \n",
    "    global bip \n",
    "   \n",
    "    # For all it's child vertices \n",
    "    for i in gr[x]:  \n",
    "        # If still not visited \n",
    "        if colour[i] == -1: \n",
    "            dfs(i, col ^ 1) \n",
    "   \n",
    "        # If visited and having \n",
    "        # same colour as parent \n",
    "        elif colour[i] == col: \n",
    "            bip = False\n",
    "      \n",
    "# Function to convert the undirected \n",
    "# graph into the directed graph such that \n",
    "# there is no path of length greater than 1 \n",
    "def Directed_Graph(n, m): \n",
    "  \n",
    "    # Call bipartite function \n",
    "    dfs(1, 1) \n",
    "   \n",
    "    # If bipartite is not possible \n",
    "    if not bip: \n",
    "        print(-1) \n",
    "        return\n",
    "      \n",
    "    # If bipartite is possible \n",
    "    for i in range(0, m):  \n",
    "   \n",
    "        # Make an edge from vertex \n",
    "        # having colour 1 to colour 0 \n",
    "        if colour[edges[i][0]] == 0: \n",
    "            edges[i][0], edges[i][1] = edges[i][1], edges[i][0] \n",
    "   \n",
    "        print(edges[i][0], edges[i][1]) \n",
    "   \n"
   ]
  },
  {
   "cell_type": "code",
   "execution_count": 3,
   "metadata": {},
   "outputs": [
    {
     "name": "stdout",
     "output_type": "stream",
     "text": [
      "1 2\n",
      "1 3\n",
      "1 4\n"
     ]
    }
   ],
   "source": [
    "# Driver code \n",
    "if __name__ == \"__main__\": \n",
    "  \n",
    "    n, m = 4, 3\n",
    "   \n",
    "    # Add edges \n",
    "    add_edge(1, 2) \n",
    "    add_edge(1, 3) \n",
    "    add_edge(1, 4) \n",
    "   \n",
    "    # Function call \n",
    "    Directed_Graph(n, m) "
   ]
  },
  {
   "cell_type": "code",
   "execution_count": null,
   "metadata": {},
   "outputs": [],
   "source": []
  }
 ],
 "metadata": {
  "kernelspec": {
   "display_name": "Python 3",
   "language": "python",
   "name": "python3"
  },
  "language_info": {
   "codemirror_mode": {
    "name": "ipython",
    "version": 3
   },
   "file_extension": ".py",
   "mimetype": "text/x-python",
   "name": "python",
   "nbconvert_exporter": "python",
   "pygments_lexer": "ipython3",
   "version": "3.7.3"
  }
 },
 "nbformat": 4,
 "nbformat_minor": 2
}
