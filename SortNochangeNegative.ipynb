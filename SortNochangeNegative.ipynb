{
 "cells": [
  {
   "cell_type": "markdown",
   "metadata": {},
   "source": [
    "# Sort an array without changing position of negative numbers"
   ]
  },
  {
   "cell_type": "markdown",
   "metadata": {},
   "source": [
    "Given an array arr[] of N integers, the task is to sort the array without changing the position of negative numbers (if any) i.e. the negative numbers need not be sorted.\n",
    "\n",
    "\n",
    "**Examples:**\n",
    "\n",
    "\n",
    "**Input:** arr[] = {2, -6, -3, 8, 4, 1}\n",
    "\n",
    "**Output:** 1 -6 -3 2 4 8\n",
    "\n",
    "\n",
    "**Input:** arr[] = {-2, -6, -3, -8, 4, 1}\n",
    "\n",
    "**Output:** -2 -6 -3 -8 1 4"
   ]
  },
  {
   "cell_type": "markdown",
   "metadata": {},
   "source": [
    "**Approach:** Store all the non-negative elements of the array in another vector and sort this vector. Now, replace all the non-negative values in the original array with these sorted values.\n"
   ]
  },
  {
   "cell_type": "code",
   "execution_count": 2,
   "metadata": {},
   "outputs": [],
   "source": [
    "def sortArray(a, n): \n",
    "  \n",
    "    # Store all non-negative values \n",
    "    ans=[] \n",
    "    for i in range(n): \n",
    "        if (a[i] >= 0): \n",
    "            ans.append(a[i]) \n",
    "  \n",
    "    # Sort non-negative values \n",
    "    ans = sorted(ans) \n",
    "  \n",
    "    j = 0\n",
    "    for i in range(n): \n",
    "  \n",
    "        # If current element is non-negative then \n",
    "        # update it such that all the \n",
    "        # non-negative values are sorted \n",
    "        if (a[i] >= 0): \n",
    "            a[i] = ans[j] \n",
    "            j += 1\n",
    "  \n",
    "    # Pr the sorted array \n",
    "    for i in range(n): \n",
    "        print(a[i],end = \" \") \n",
    "  "
   ]
  },
  {
   "cell_type": "code",
   "execution_count": 3,
   "metadata": {},
   "outputs": [
    {
     "name": "stdout",
     "output_type": "stream",
     "text": [
      "1 -6 -3 2 4 8 "
     ]
    }
   ],
   "source": [
    "arr = [2, -6, -3, 8, 4, 1] \n",
    "  \n",
    "n = len(arr) \n",
    "  \n",
    "sortArray(arr, n) "
   ]
  },
  {
   "cell_type": "code",
   "execution_count": null,
   "metadata": {},
   "outputs": [],
   "source": []
  }
 ],
 "metadata": {
  "kernelspec": {
   "display_name": "Python 3",
   "language": "python",
   "name": "python3"
  },
  "language_info": {
   "codemirror_mode": {
    "name": "ipython",
    "version": 3
   },
   "file_extension": ".py",
   "mimetype": "text/x-python",
   "name": "python",
   "nbconvert_exporter": "python",
   "pygments_lexer": "ipython3",
   "version": "3.7.3"
  }
 },
 "nbformat": 4,
 "nbformat_minor": 2
}
