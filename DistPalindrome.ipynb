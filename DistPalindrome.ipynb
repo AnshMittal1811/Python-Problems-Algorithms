{
 "cells": [
  {
   "cell_type": "markdown",
   "metadata": {},
   "source": [
    "# Distinct palindromic sub-strings of the given string using Dynamic Programming"
   ]
  },
  {
   "cell_type": "markdown",
   "metadata": {},
   "source": [
    "Given a string str of lowercase alphabets, the task is to find all distinct palindromic sub-strings of the given string.\n",
    "\n",
    "\n",
    "**Examples:**\n",
    "\n",
    "\n",
    "\n",
    "**Input:** str = “abaaa”\n",
    "\n",
    "**Output:** 5\n",
    "\n",
    "Palindromic sub-strings are “a”, “aa”, “aaa”, “aba” and “b”\n",
    "\n",
    "**Input:** str = “abcd”\n",
    "**Output:** 4\n",
    "\n",
    "**Approach:** The solution to this problem has been discussed here using Manacher’s algorithm. However we can also solve it using dynamic programming.\n",
    "Create an array dp[][] where dp[i][j] is set to 1 if str[i…j] is a palindrome else 0. After the array has been generated, store all the palindromic sub-strings in a map in order to get the count of distinct sub-strings.\n",
    "\n",
    "Below is the implementation of the above approach:\n"
   ]
  },
  {
   "cell_type": "code",
   "execution_count": null,
   "metadata": {},
   "outputs": [],
   "source": [
    "import numpy as np; \n",
    "  \n",
    "# Function to return the count  \n",
    "# of distinct palindromic sub-strings  \n",
    "# of the given string s  \n",
    "def palindromeSubStrs(s) :  \n",
    "  \n",
    "    # To store the positions of  \n",
    "    # palindromic sub-strings  \n",
    "    dp = np.zeros((len(s),len(s)));  \n",
    "      \n",
    "    # Map to store the sub-strings  \n",
    "    m = {};  \n",
    "      \n",
    "    for i in range(len(s)) : \n",
    "  \n",
    "        # Sub-strings of length 1 are palindromes  \n",
    "        dp[i][i] = 1;  \n",
    "  \n",
    "        # Store continuous palindromic sub-strings  \n",
    "        m[s[i: i + 1]] = 1;  \n",
    "      \n",
    "  \n",
    "    # Store palindromes of size 2  \n",
    "    for i in range(len(s)- 1) :  \n",
    "        if (s[i] == s[i + 1]) : \n",
    "            dp[i][i + 1] = 1;  \n",
    "            m[ s[i : i + 2]] = 1;  \n",
    "           \n",
    "  \n",
    "        # If str[i...(i+1)] is not a palindromic  \n",
    "        # then set dp[i][i + 1] = 0  \n",
    "        else : \n",
    "            dp[i][i + 1] = 0;  \n",
    "  \n",
    "    # Find palindromic sub-strings of length>=3  \n",
    "    for length in range(3,len(s) + 1) :  \n",
    "        for st in range(len(s) - length + 1) : \n",
    "  \n",
    "            # End of palindromic substring  \n",
    "            end = st + length - 1;  \n",
    "  \n",
    "            # If s[start] == s[end] and  \n",
    "            # dp[start+1][end-1] is already palindrome  \n",
    "            # then s[start....end] is also a palindrome  \n",
    "            if (s[st] == s[end] and dp[st + 1][end - 1]) : \n",
    "  \n",
    "                # Set dp[start][end] = 1  \n",
    "                dp[st][end] = 1;  \n",
    "                m[s[st : end + 1]] = 1;  \n",
    "  \n",
    "            # Not a palindrome  \n",
    "            else : \n",
    "                dp[st][end] = 0; \n",
    "  \n",
    "    # Return the count of distinct palindromes  \n",
    "    return len(m);  \n",
    "  \n",
    " "
   ]
  },
  {
   "cell_type": "code",
   "execution_count": null,
   "metadata": {},
   "outputs": [],
   "source": [
    " \n",
    "# Driver code  \n",
    "if __name__ == \"__main__\" :  \n",
    "  \n",
    "    s = \"abaaa\";  \n",
    "    print(palindromeSubStrs(s)); "
   ]
  }
 ],
 "metadata": {
  "kernelspec": {
   "display_name": "Python 3",
   "language": "python",
   "name": "python3"
  },
  "language_info": {
   "codemirror_mode": {
    "name": "ipython",
    "version": 3
   },
   "file_extension": ".py",
   "mimetype": "text/x-python",
   "name": "python",
   "nbconvert_exporter": "python",
   "pygments_lexer": "ipython3",
   "version": "3.7.3"
  }
 },
 "nbformat": 4,
 "nbformat_minor": 2
}
