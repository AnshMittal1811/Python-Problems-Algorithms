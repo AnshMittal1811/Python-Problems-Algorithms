{
 "cells": [
  {
   "cell_type": "markdown",
   "metadata": {},
   "source": [
    "# Ways to remove numeric digits from given string\n"
   ]
  },
  {
   "cell_type": "markdown",
   "metadata": {},
   "source": [
    "Given a string (may contain both characters and digits), write a Python program to remove the numeric digits from string.\n",
    "\n",
    "Let’s discuss the different ways we can achieve this task.\n",
    "\n",
    "Method #1: Using join and isdigit()"
   ]
  },
  {
   "cell_type": "code",
   "execution_count": 1,
   "metadata": {},
   "outputs": [
    {
     "name": "stdout",
     "output_type": "stream",
     "text": [
      "initial string :  Geeks123for127geeks\n",
      "final string :  Geeksforgeeks\n"
     ]
    }
   ],
   "source": [
    "# initialising string \n",
    "ini_string = \"Geeks123for127geeks\"\n",
    "  \n",
    "# printing initial ini_string \n",
    "print(\"initial string : \", ini_string) \n",
    "  \n",
    "# using join and isdigit  \n",
    "# to remove numeric digits from string \n",
    "res = ''.join([i for i in ini_string if not i.isdigit()]) \n",
    "  \n",
    "# printing result \n",
    "print(\"final string : \", res) "
   ]
  },
  {
   "cell_type": "markdown",
   "metadata": {},
   "source": [
    "Method #2: Using translate and digits\n",
    "\n"
   ]
  },
  {
   "cell_type": "code",
   "execution_count": 2,
   "metadata": {},
   "outputs": [
    {
     "name": "stdout",
     "output_type": "stream",
     "text": [
      "initial string :  Geeks123for127geeks\n",
      "final string :  Geeksforgeeks\n"
     ]
    }
   ],
   "source": [
    "\n",
    "# Python code to demonstrate \n",
    "# how to remove numeric digits from string \n",
    "# using translate \n",
    "from string import digits \n",
    "  \n",
    "# initialising string \n",
    "ini_string = \"Geeks123for127geeks\"\n",
    "  \n",
    "# printing initial ini_string \n",
    "print(\"initial string : \", ini_string) \n",
    "  \n",
    "# using translate and digits \n",
    "# to remove numeric digits from string \n",
    "remove_digits = str.maketrans('', '', digits) \n",
    "res = ini_string.translate(remove_digits) \n",
    "  \n",
    "# printing result \n",
    "print(\"final string : \", res) "
   ]
  },
  {
   "cell_type": "markdown",
   "metadata": {},
   "source": [
    "Method #3: Using filter and lambda\n",
    "\n"
   ]
  },
  {
   "cell_type": "code",
   "execution_count": 3,
   "metadata": {},
   "outputs": [
    {
     "name": "stdout",
     "output_type": "stream",
     "text": [
      "initial string :  akshat123garg\n",
      "final string :  akshatgarg\n"
     ]
    }
   ],
   "source": [
    "# Python code to demonstrate \n",
    "# how to remove numeric digits from string \n",
    "# using filter and lambda \n",
    "  \n",
    "# initialising string \n",
    "ini_string = \"akshat123garg\"\n",
    "  \n",
    "# printing initial ini_string \n",
    "print(\"initial string : \", ini_string) \n",
    "  \n",
    "# using filter and lambda \n",
    "# to remove numeric digits from string \n",
    "res = \"\".join(filter(lambda x: not x.isdigit(), ini_string)) \n",
    "  \n",
    "# res = ini_string \n",
    "# printing result \n",
    "print(\"final string : \", str(res))"
   ]
  },
  {
   "cell_type": "markdown",
   "metadata": {},
   "source": [
    "---------"
   ]
  }
 ],
 "metadata": {
  "kernelspec": {
   "display_name": "Python 3",
   "language": "python",
   "name": "python3"
  },
  "language_info": {
   "codemirror_mode": {
    "name": "ipython",
    "version": 3
   },
   "file_extension": ".py",
   "mimetype": "text/x-python",
   "name": "python",
   "nbconvert_exporter": "python",
   "pygments_lexer": "ipython3",
   "version": "3.7.3"
  }
 },
 "nbformat": 4,
 "nbformat_minor": 2
}
