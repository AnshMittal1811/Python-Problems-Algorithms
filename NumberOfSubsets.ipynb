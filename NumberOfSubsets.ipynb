{
 "cells": [
  {
   "cell_type": "markdown",
   "metadata": {},
   "source": [
    "# Number of subsets with zero sum\n"
   ]
  },
  {
   "cell_type": "markdown",
   "metadata": {},
   "source": [
    "Given an array ‘arr’ consisting of integers, the task is to find the number of subsets such that their sum is equal to zero. Empty subset should also be considered.\n",
    "\n",
    "**Examples:**\n",
    "\n",
    "**Input:** arr[] = {2, 2, -4}\n",
    "Output : 2\n",
    "All possible subsets:\n",
    "{} = 0\n",
    "{2} = 2\n",
    "{2} = 2\n",
    "{-4} = -4\n",
    "{2, 2} = 4\n",
    "{2, -4} = -2\n",
    "{2, -4} = -4\n",
    "{2, 2, -4} = 0\n",
    "Since, {} and {2, 2, -4} are only possible subsets with sum 0, ans will be 2.\n",
    "\n",
    "Input : arr[] = {1, 1, 1, 1}\n",
    "\n",
    "Output : 1\n",
    "\n",
    "{} is the only possible subset with sum 0, thus ans equals 1.\n",
    "\n",
    "\n",
    "One simple approach is to generate all possible subsets recursively and count number of subsets with sum equals 0. Time complexity of this approach will be O(2^n).\n",
    "\n",
    "A better approach will be using Dynamic programming.\n",
    "Let’s suppose sum of all the elements we have selected upto index ‘i-1’ is ‘S’. So, starting from index ‘i’, we have to find number of subsets of the sub-array{i, N-1} with sum equals -S.\n",
    "Let’s define dp[i][S]. It means number of the subset of the subarray{i, N-1} of ‘arr’ with sum equals ‘-S’.\n",
    "If we are at ith index, we have two choices, i.e. to include it in the sum or leave it.\n",
    "Thus, the required recurrence relation becomes\n",
    "\n",
    "dp[i][s] = dp[i+1][s+arr[i]] + dp[i+1][s]\n",
    "\n",
    "Below is the implementation of above approach:\n"
   ]
  },
  {
   "cell_type": "code",
   "execution_count": null,
   "metadata": {},
   "outputs": [],
   "source": []
  },
  {
   "cell_type": "code",
   "execution_count": null,
   "metadata": {},
   "outputs": [],
   "source": []
  }
 ],
 "metadata": {
  "kernelspec": {
   "display_name": "Python 3",
   "language": "python",
   "name": "python3"
  },
  "language_info": {
   "codemirror_mode": {
    "name": "ipython",
    "version": 3
   },
   "file_extension": ".py",
   "mimetype": "text/x-python",
   "name": "python",
   "nbconvert_exporter": "python",
   "pygments_lexer": "ipython3",
   "version": "3.6.6"
  }
 },
 "nbformat": 4,
 "nbformat_minor": 2
}
